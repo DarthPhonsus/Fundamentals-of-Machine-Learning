{
  "nbformat": 4,
  "nbformat_minor": 0,
  "metadata": {
    "colab": {
      "name": "Balagtas_HW 1",
      "provenance": [],
      "collapsed_sections": []
    },
    "kernelspec": {
      "name": "python3",
      "display_name": "Python 3"
    }
  },
  "cells": [
    {
      "cell_type": "code",
      "metadata": {
        "id": "JaLFyOLDKr56"
      },
      "source": [
        "import numpy as np\n",
        "import matplotlib.pyplot as plt\n",
        "import math"
      ],
      "execution_count": 1,
      "outputs": []
    },
    {
      "cell_type": "code",
      "metadata": {
        "id": "gCoP-KI_Ow6B"
      },
      "source": [
        "#1 / np.power(10000, (2 * (11//2)) / np.float32(16))  "
      ],
      "execution_count": 2,
      "outputs": []
    },
    {
      "cell_type": "code",
      "metadata": {
        "id": "WuXaw-2bO69F"
      },
      "source": [
        "#np.newaxis"
      ],
      "execution_count": 3,
      "outputs": []
    },
    {
      "cell_type": "code",
      "metadata": {
        "id": "8b8NXmUnPeYq"
      },
      "source": [
        "#np.arange(10)"
      ],
      "execution_count": 4,
      "outputs": []
    },
    {
      "cell_type": "code",
      "metadata": {
        "id": "pMvYBo3RKfmA"
      },
      "source": [
        "\n",
        "# Code from https://www.tensorflow.org/tutorials/text/transformer\n",
        "def get_angles(pos, i, d_model):\n",
        "  #angle_rates = (1) / np.power(10000, (2 * (i//2)) / np.float32(d_model))\n",
        "  #print(pos * angle_rates)\n",
        "  angle_rates = np.linspace(2*math.pi,0,d_model) #\n",
        "  #print(pos)\n",
        "  #return angle_rates\n",
        "  #print(pos * angle_rates)\n",
        "  return pos * angle_rates\n",
        "\n",
        "def positional_encoding(position, d_model):\n",
        "  angle_rads = get_angles(np.arange(position)[:, np.newaxis],\n",
        "                          np.arange(d_model)[np.newaxis, :],\n",
        "                          d_model)\n",
        "  \n",
        "  # apply sin to even indices in the array; 2i\n",
        "  angle_rads[:, 0::2] = np.sin(angle_rads[:, 0::2])\n",
        "  \n",
        "  # apply cos to odd indices in the array; 2i+1\n",
        "  angle_rads[:, 1::2] = np.cos(angle_rads[:, 1::2])\n",
        "  #print(\"second\", angle_rads) \n",
        "  pos_encoding = angle_rads[np.newaxis, ...]\n",
        "  #print(angle_rads)  \n",
        "  return pos_encoding\n",
        "\n"
      ],
      "execution_count": 5,
      "outputs": []
    },
    {
      "cell_type": "code",
      "metadata": {
        "id": "SB9-56JWKv6T",
        "outputId": "38d58889-0474-418c-9b35-0f599ad8ebd2",
        "colab": {
          "base_uri": "https://localhost:8080/",
          "height": 519
        }
      },
      "source": [
        "tokens = 50\n",
        "dimensions = 16\n",
        "\n",
        "pos_encoding = positional_encoding(tokens, dimensions)\n",
        "print (pos_encoding.shape)\n",
        "\n",
        "plt.figure(figsize=(12,8))\n",
        "plt.pcolormesh(pos_encoding[0], cmap='viridis')\n",
        "plt.xlabel('Embedding Dimensions')\n",
        "plt.xlim((0, dimensions))\n",
        "plt.ylim((tokens,0))\n",
        "plt.ylabel('Token Position')\n",
        "plt.colorbar()\n",
        "plt.show()"
      ],
      "execution_count": 6,
      "outputs": [
        {
          "output_type": "stream",
          "text": [
            "(1, 50, 16)\n"
          ],
          "name": "stdout"
        },
        {
          "output_type": "display_data",
          "data": {
            "image/png": "[encoded data removed]",
            "text/plain": [
              "<Figure size 864x576 with 2 Axes>"
            ]
          },
          "metadata": {
            "tags": [],
            "needs_background": "light"
          }
        }
      ]
    },
    {
      "cell_type": "code",
      "metadata": {
        "id": "8Gqnwg5OU0Da",
        "outputId": "d858b178-f473-4a9c-f1ca-ccde5dd03e83",
        "colab": {
          "base_uri": "https://localhost:8080/",
          "height": 35
        }
      },
      "source": [
        "pos_encoding.shape"
      ],
      "execution_count": 7,
      "outputs": [
        {
          "output_type": "execute_result",
          "data": {
            "text/plain": [
              "(1, 50, 16)"
            ]
          },
          "metadata": {
            "tags": []
          },
          "execution_count": 7
        }
      ]
    },
    {
      "cell_type": "code",
      "metadata": {
        "id": "GdyrTa8vMZLs"
      },
      "source": [
        "#np.sin(2*math.pi)"
      ],
      "execution_count": 8,
      "outputs": []
    },
    {
      "cell_type": "code",
      "metadata": {
        "id": "BCrgUlLLrCPX"
      },
      "source": [
        "#np.sin(360)"
      ],
      "execution_count": 9,
      "outputs": []
    },
    {
      "cell_type": "code",
      "metadata": {
        "id": "MGpD1bBZrV4y",
        "outputId": "6ebb9e2c-bef8-4f37-cff3-c243497fa858",
        "colab": {
          "base_uri": "https://localhost:8080/",
          "height": 54
        }
      },
      "source": [
        "## Problem 2\n",
        "'''\n",
        "If B is a set of basis vectors, are the vectors Orthonormal? Orthogonal? If not,\n",
        "make the basis vectors orthogonal and orthonormal using G-S method.\n",
        "'''\n",
        "# Not necessarily"
      ],
      "execution_count": 10,
      "outputs": [
        {
          "output_type": "execute_result",
          "data": {
            "application/vnd.google.colaboratory.intrinsic+json": {
              "type": "string"
            },
            "text/plain": [
              "'\\nIf B is a set of basis vectors, are the vectors Orthonormal? Orthogonal? If not,\\nmake the basis vectors orthogonal and orthonormal using G-S method.\\n'"
            ]
          },
          "metadata": {
            "tags": []
          },
          "execution_count": 10
        }
      ]
    },
    {
      "cell_type": "code",
      "metadata": {
        "id": "ILy0lMPgxmZE",
        "outputId": "5719e468-07a3-4daa-b119-af0786ee89e9",
        "colab": {
          "base_uri": "https://localhost:8080/",
          "height": 72
        }
      },
      "source": [
        "from scipy.linalg import orth\n",
        "#A = np.array([[2, 0, 0], [0, 5, 0]])  # rank 2 array\n",
        "matrix = [\n",
        "          [1, 0, 0],\n",
        "          [1, 1, 0],\n",
        "          [1, 1, 1],\n",
        "]\n",
        "matrix = [\n",
        "          [1, 1, 1],\n",
        "          [0, 1, 1],\n",
        "          [0, 0, 1],\n",
        "]\n",
        "\n",
        "A = np.array(matrix)\n",
        "orth(A)"
      ],
      "execution_count": 11,
      "outputs": [
        {
          "output_type": "execute_result",
          "data": {
            "text/plain": [
              "array([[ 0.73697623,  0.59100905,  0.32798528],\n",
              "       [ 0.59100905, -0.32798528, -0.73697623],\n",
              "       [ 0.32798528, -0.73697623,  0.59100905]])"
            ]
          },
          "metadata": {
            "tags": []
          },
          "execution_count": 11
        }
      ]
    },
    {
      "cell_type": "code",
      "metadata": {
        "id": "G8ktPIaZEQoJ",
        "outputId": "4ae810db-eaeb-4a53-b3f0-5a238b02c0bc",
        "colab": {
          "base_uri": "https://localhost:8080/",
          "height": 72
        }
      },
      "source": [
        "A"
      ],
      "execution_count": 12,
      "outputs": [
        {
          "output_type": "execute_result",
          "data": {
            "text/plain": [
              "array([[1, 1, 1],\n",
              "       [0, 1, 1],\n",
              "       [0, 0, 1]])"
            ]
          },
          "metadata": {
            "tags": []
          },
          "execution_count": 12
        }
      ]
    },
    {
      "cell_type": "code",
      "metadata": {
        "id": "3337BAuLEfCI",
        "outputId": "0bb63149-f755-4dc9-e85d-265c86490104",
        "colab": {
          "base_uri": "https://localhost:8080/",
          "height": 72
        }
      },
      "source": [
        "A.T"
      ],
      "execution_count": 13,
      "outputs": [
        {
          "output_type": "execute_result",
          "data": {
            "text/plain": [
              "array([[1, 0, 0],\n",
              "       [1, 1, 0],\n",
              "       [1, 1, 1]])"
            ]
          },
          "metadata": {
            "tags": []
          },
          "execution_count": 13
        }
      ]
    },
    {
      "cell_type": "code",
      "metadata": {
        "id": "IvNqEwXQ8KAD",
        "outputId": "957578cc-f869-467d-9b1a-01c77bd11778",
        "colab": {
          "base_uri": "https://localhost:8080/",
          "height": 35
        }
      },
      "source": [
        "np.square(np.linalg.norm([1, 1, 1]) )"
      ],
      "execution_count": 14,
      "outputs": [
        {
          "output_type": "execute_result",
          "data": {
            "text/plain": [
              "2.9999999999999996"
            ]
          },
          "metadata": {
            "tags": []
          },
          "execution_count": 14
        }
      ]
    },
    {
      "cell_type": "code",
      "metadata": {
        "id": "JYhb7bfh8dJM",
        "outputId": "23d93bf1-d5fa-468c-c638-5c647d726c55",
        "colab": {
          "base_uri": "https://localhost:8080/",
          "height": 72
        }
      },
      "source": [
        "for i, vector in enumerate(A):\n",
        "  print(i, vector)"
      ],
      "execution_count": 15,
      "outputs": [
        {
          "output_type": "stream",
          "text": [
            "0 [1 1 1]\n",
            "1 [0 1 1]\n",
            "2 [0 0 1]\n"
          ],
          "name": "stdout"
        }
      ]
    },
    {
      "cell_type": "code",
      "metadata": {
        "id": "IqIuADcA1-SX"
      },
      "source": [
        "def gram_test(vectors):\n",
        "    \n",
        "    basis = []\n",
        "    for i, vector in enumerate(vectors):\n",
        "      sub = 0\n",
        "      if i == 0:\n",
        "        basis.append(vector)\n",
        "        \n",
        "      else:\n",
        "        #temp = vector - np.sum(( np.dot(vector, b) / np.square(np.linalg.norm(b)) ) * b for b in basis )\n",
        "        for b in basis:\n",
        "          sub += ( (np.dot(vector, b)  ) / np.square(np.linalg.norm(b)) )* b\n",
        "        temp = vector - sub\n",
        "        basis.append(temp)\n",
        "        #print(temp)\n",
        "        #basis.append(temp)\n",
        "    \n",
        "    #print(np.array(basis) )\n",
        "    return (np.array(basis))\n",
        "  #this gives orthogonal, but need to normalize first\n",
        "    "
      ],
      "execution_count": 16,
      "outputs": []
    },
    {
      "cell_type": "code",
      "metadata": {
        "id": "-Q_jdo5f2P7R",
        "outputId": "3a4272a9-1d5f-49f2-80db-c0c3f0f54971",
        "colab": {
          "base_uri": "https://localhost:8080/",
          "height": 72
        }
      },
      "source": [
        "gram_test(A)"
      ],
      "execution_count": 17,
      "outputs": [
        {
          "output_type": "execute_result",
          "data": {
            "text/plain": [
              "array([[ 1.00000000e+00,  1.00000000e+00,  1.00000000e+00],\n",
              "       [-6.66666667e-01,  3.33333333e-01,  3.33333333e-01],\n",
              "       [-5.55111512e-17, -5.00000000e-01,  5.00000000e-01]])"
            ]
          },
          "metadata": {
            "tags": []
          },
          "execution_count": 17
        }
      ]
    },
    {
      "cell_type": "code",
      "metadata": {
        "id": "uftZlTWN-p7X",
        "outputId": "8b050b0e-12fa-4540-987d-afa43609972e",
        "colab": {
          "base_uri": "https://localhost:8080/",
          "height": 72
        }
      },
      "source": [
        "mat = [\n",
        "          [1, 0, -1],\n",
        "          [1, math.sqrt(2), 1],\n",
        "          [1, -math.sqrt(2), 1],\n",
        "       \n",
        "]\n",
        "\n",
        "swag = np.array(mat)\n",
        "swag"
      ],
      "execution_count": 18,
      "outputs": [
        {
          "output_type": "execute_result",
          "data": {
            "text/plain": [
              "array([[ 1.        ,  0.        , -1.        ],\n",
              "       [ 1.        ,  1.41421356,  1.        ],\n",
              "       [ 1.        , -1.41421356,  1.        ]])"
            ]
          },
          "metadata": {
            "tags": []
          },
          "execution_count": 18
        }
      ]
    },
    {
      "cell_type": "code",
      "metadata": {
        "id": "f1OK4w70_MG_",
        "outputId": "46899d57-ab07-4ead-b6b7-fc91fd1f923b",
        "colab": {
          "base_uri": "https://localhost:8080/",
          "height": 72
        }
      },
      "source": [
        "gram_test(swag)"
      ],
      "execution_count": 19,
      "outputs": [
        {
          "output_type": "execute_result",
          "data": {
            "text/plain": [
              "array([[ 1.        ,  0.        , -1.        ],\n",
              "       [ 1.        ,  1.41421356,  1.        ],\n",
              "       [ 1.        , -1.41421356,  1.        ]])"
            ]
          },
          "metadata": {
            "tags": []
          },
          "execution_count": 19
        }
      ]
    },
    {
      "cell_type": "code",
      "metadata": {
        "id": "BiygLo6sAHyg"
      },
      "source": [
        "def gram_normal(vectors):\n",
        "  answer = []\n",
        "  for v in vectors:\n",
        "    answer.append(v / np.linalg.norm(v))\n",
        "  return np.array(answer)"
      ],
      "execution_count": 20,
      "outputs": []
    },
    {
      "cell_type": "code",
      "metadata": {
        "id": "jbXAVnizBQHt",
        "outputId": "fa24762f-c85a-4d98-91e5-6b6735ee1297",
        "colab": {
          "base_uri": "https://localhost:8080/",
          "height": 72
        }
      },
      "source": [
        "gram_normal(gram_test(A))"
      ],
      "execution_count": 21,
      "outputs": [
        {
          "output_type": "execute_result",
          "data": {
            "text/plain": [
              "array([[ 5.77350269e-01,  5.77350269e-01,  5.77350269e-01],\n",
              "       [-8.16496581e-01,  4.08248290e-01,  4.08248290e-01],\n",
              "       [-7.85046229e-17, -7.07106781e-01,  7.07106781e-01]])"
            ]
          },
          "metadata": {
            "tags": []
          },
          "execution_count": 21
        }
      ]
    },
    {
      "cell_type": "code",
      "metadata": {
        "id": "vK6se33iBDSG",
        "outputId": "2b5e0fd0-6560-4bf3-983a-34b3494c72b6",
        "colab": {
          "base_uri": "https://localhost:8080/",
          "height": 72
        }
      },
      "source": [
        "gram_normal(gram_test(swag))"
      ],
      "execution_count": 22,
      "outputs": [
        {
          "output_type": "execute_result",
          "data": {
            "text/plain": [
              "array([[ 0.70710678,  0.        , -0.70710678],\n",
              "       [ 0.5       ,  0.70710678,  0.5       ],\n",
              "       [ 0.5       , -0.70710678,  0.5       ]])"
            ]
          },
          "metadata": {
            "tags": []
          },
          "execution_count": 22
        }
      ]
    },
    {
      "cell_type": "code",
      "metadata": {
        "id": "4qjMqikj0Hbx",
        "outputId": "14508571-ea5d-4823-e701-f10b88077b23",
        "colab": {
          "base_uri": "https://localhost:8080/",
          "height": 35
        }
      },
      "source": [
        "len(A)"
      ],
      "execution_count": 23,
      "outputs": [
        {
          "output_type": "execute_result",
          "data": {
            "text/plain": [
              "3"
            ]
          },
          "metadata": {
            "tags": []
          },
          "execution_count": 23
        }
      ]
    },
    {
      "cell_type": "code",
      "metadata": {
        "id": "JH0SmBgW1042",
        "outputId": "3ec34358-1bcb-4778-8afe-132501fba0bd",
        "colab": {
          "base_uri": "https://localhost:8080/",
          "height": 72
        }
      },
      "source": [
        "A"
      ],
      "execution_count": 24,
      "outputs": [
        {
          "output_type": "execute_result",
          "data": {
            "text/plain": [
              "array([[1, 1, 1],\n",
              "       [0, 1, 1],\n",
              "       [0, 0, 1]])"
            ]
          },
          "metadata": {
            "tags": []
          },
          "execution_count": 24
        }
      ]
    },
    {
      "cell_type": "code",
      "metadata": {
        "id": "ucM4VtfJ14ub"
      },
      "source": [
        "\n"
      ],
      "execution_count": 24,
      "outputs": []
    },
    {
      "cell_type": "code",
      "metadata": {
        "id": "1oBW2SfjFwJQ"
      },
      "source": [
        "#our vectors are horizontal\n",
        "def gram_process(vectors):\n",
        "  return gram_normal(gram_test(vectors))"
      ],
      "execution_count": 25,
      "outputs": []
    },
    {
      "cell_type": "code",
      "metadata": {
        "id": "06CnjZd7RFaN",
        "outputId": "617ba72c-0499-4c82-872d-91defe59ef89",
        "colab": {
          "base_uri": "https://localhost:8080/",
          "height": 72
        }
      },
      "source": [
        "gram_process(A)"
      ],
      "execution_count": 26,
      "outputs": [
        {
          "output_type": "execute_result",
          "data": {
            "text/plain": [
              "array([[ 5.77350269e-01,  5.77350269e-01,  5.77350269e-01],\n",
              "       [-8.16496581e-01,  4.08248290e-01,  4.08248290e-01],\n",
              "       [-7.85046229e-17, -7.07106781e-01,  7.07106781e-01]])"
            ]
          },
          "metadata": {
            "tags": []
          },
          "execution_count": 26
        }
      ]
    },
    {
      "cell_type": "code",
      "metadata": {
        "id": "QO6YaVsHRNBa",
        "outputId": "e6b1bdad-3f5b-488e-a031-5514c6a64852",
        "colab": {
          "base_uri": "https://localhost:8080/",
          "height": 35
        }
      },
      "source": [
        "gram_process(swag)[0]"
      ],
      "execution_count": 27,
      "outputs": [
        {
          "output_type": "execute_result",
          "data": {
            "text/plain": [
              "array([ 0.70710678,  0.        , -0.70710678])"
            ]
          },
          "metadata": {
            "tags": []
          },
          "execution_count": 27
        }
      ]
    },
    {
      "cell_type": "code",
      "metadata": {
        "id": "skEXlXTBSvIF",
        "outputId": "5db80990-63c5-4e7c-e61d-39d760cc79d7",
        "colab": {
          "base_uri": "https://localhost:8080/",
          "height": 35
        }
      },
      "source": [
        "gram_process(swag)[1]"
      ],
      "execution_count": 28,
      "outputs": [
        {
          "output_type": "execute_result",
          "data": {
            "text/plain": [
              "array([0.5       , 0.70710678, 0.5       ])"
            ]
          },
          "metadata": {
            "tags": []
          },
          "execution_count": 28
        }
      ]
    },
    {
      "cell_type": "code",
      "metadata": {
        "id": "wqgcVjAvSwQq",
        "outputId": "44ec0fb3-bf2f-4e57-8a9a-6bec16ae6b45",
        "colab": {
          "base_uri": "https://localhost:8080/",
          "height": 35
        }
      },
      "source": [
        "gram_process(swag)[2]"
      ],
      "execution_count": 29,
      "outputs": [
        {
          "output_type": "execute_result",
          "data": {
            "text/plain": [
              "array([ 0.5       , -0.70710678,  0.5       ])"
            ]
          },
          "metadata": {
            "tags": []
          },
          "execution_count": 29
        }
      ]
    },
    {
      "cell_type": "code",
      "metadata": {
        "id": "cnwJSCiySxCE",
        "outputId": "5aaa324e-2aba-41ad-dbc0-1a565c7fae26",
        "colab": {
          "base_uri": "https://localhost:8080/",
          "height": 72
        }
      },
      "source": [
        "gram_process(swag)"
      ],
      "execution_count": 30,
      "outputs": [
        {
          "output_type": "execute_result",
          "data": {
            "text/plain": [
              "array([[ 0.70710678,  0.        , -0.70710678],\n",
              "       [ 0.5       ,  0.70710678,  0.5       ],\n",
              "       [ 0.5       , -0.70710678,  0.5       ]])"
            ]
          },
          "metadata": {
            "tags": []
          },
          "execution_count": 30
        }
      ]
    },
    {
      "cell_type": "code",
      "metadata": {
        "id": "8Fa4Ew6cRQQ1",
        "outputId": "8ef168e1-e4a1-431f-bc22-9bd434530528",
        "colab": {
          "base_uri": "https://localhost:8080/",
          "height": 501
        }
      },
      "source": [
        "#tokens = 50\n",
        "parameters = 5\n",
        "# Uncomment next line and comment out the other 'example' below if you want to use a random n x n matrix\n",
        "# example = np.random.rand(parameters, parameters)\n",
        "\n",
        "example = np.array([\n",
        "           [1, 2, 3],\n",
        "           [3, 2, 1],\n",
        "           [0, 0, 1]\n",
        "           \n",
        "])\n",
        "answer = gram_process(example)\n",
        "\n",
        "plt.figure(figsize=(12,8))\n",
        "plt.pcolormesh(answer, cmap='plasma')\n",
        "plt.xlabel('rows')\n",
        "#plt.xlim((0, dimensions))\n",
        "#plt.ylim((tokens,0))\n",
        "plt.ylabel('columns')\n",
        "plt.clim(-1, 1)\n",
        "plt.colorbar()\n",
        "plt.show()\n"
      ],
      "execution_count": 31,
      "outputs": [
        {
          "output_type": "display_data",
          "data": {
            "image/png": "[encoded data removed]",
            "text/plain": [
              "<Figure size 864x576 with 2 Axes>"
            ]
          },
          "metadata": {
            "tags": [],
            "needs_background": "light"
          }
        }
      ]
    },
    {
      "cell_type": "code",
      "metadata": {
        "id": "_Gmim7VISFXQ",
        "outputId": "034ad7a7-fac2-4ebb-be16-6295f5549941",
        "colab": {
          "base_uri": "https://localhost:8080/",
          "height": 72
        }
      },
      "source": [
        "answer"
      ],
      "execution_count": 32,
      "outputs": [
        {
          "output_type": "execute_result",
          "data": {
            "text/plain": [
              "array([[ 0.26726124,  0.53452248,  0.80178373],\n",
              "       [ 0.87287156,  0.21821789, -0.43643578],\n",
              "       [ 0.40824829, -0.81649658,  0.40824829]])"
            ]
          },
          "metadata": {
            "tags": []
          },
          "execution_count": 32
        }
      ]
    },
    {
      "cell_type": "code",
      "metadata": {
        "id": "r5zkf6MlTXoD"
      },
      "source": [
        ""
      ],
      "execution_count": 32,
      "outputs": []
    }
  ]
}