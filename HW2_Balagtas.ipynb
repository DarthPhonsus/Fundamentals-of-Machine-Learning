{
 "cells": [
  {
   "cell_type": "markdown",
   "metadata": {},
   "source": [
    "## HW 2\n",
    "* Ask the user to supply the mean and standard deviation of a 1D Gaussian\n",
    "\n",
    "\n",
    "* For the given mean and std, draw 1,000,000 random samples from the 1D Gaussian \n",
    "\n",
    "\n",
    "* Build a dataset 𝒟 with 1,000 histogram bins \n",
    "\n",
    "\n",
    "* Split the dataset into train (90%) and test (10%): 𝒟={𝒟_𝑡𝑟𝑎𝑖𝑛,𝒟_𝑡𝑒𝑠𝑡 }. Make sure both train and test are IID.\n",
    "\n",
    "\n",
    "* Using pure Python3 and Numpy, build a 3-layer neural networks: \n",
    "\n",
    "\n",
    "* Layers: {1−64−𝑅𝑒𝐿𝑈−64−𝑅𝑒𝐿𝑈−64−1−𝑠𝑖𝑔𝑚𝑜𝑖𝑑}  . Sigmoid is optional.\n",
    "\n",
    "\n",
    "* Initialize the weights using a Gaussian distribution with zero mean and std=0.01\n",
    "\n",
    "\n",
    "* Using pure Python3 and Numpy, implement the backpropagation discussed in this class. Learning rate=0.1. Batch size =1. Loss=MSE.\n",
    "\n",
    "\n",
    "* Train for 20 epochs and evaluate the performance of your network"
   ]
  },
  {
   "cell_type": "markdown",
   "metadata": {},
   "source": [
    "So first, let us get the mean and standard deviation from the user."
   ]
  },
  {
   "cell_type": "code",
   "execution_count": 1,
   "metadata": {},
   "outputs": [
    {
     "name": "stdout",
     "output_type": "stream",
     "text": [
      "Give mean: 0\n",
      "0.0\n",
      "Give standard dev: 1\n",
      "1.0\n"
     ]
    }
   ],
   "source": [
    "mean = input(\"Give mean: \")\n",
    "mean = float(mean)\n",
    "print(mean)\n",
    "std = input(\"Give standard dev: \")\n",
    "std = float(std)\n",
    "print(std)"
   ]
  },
  {
   "cell_type": "markdown",
   "metadata": {},
   "source": [
    "In this example, we get a mean of 0 and standard deviation of 1"
   ]
  },
  {
   "cell_type": "code",
   "execution_count": 2,
   "metadata": {},
   "outputs": [
    {
     "name": "stdout",
     "output_type": "stream",
     "text": [
      "Num of datapoints: 1000000\n",
      "Mean: -0.0005503085198210411\n",
      "Standard Deviation: 1.0000568214672916\n"
     ]
    }
   ],
   "source": [
    "import numpy as np\n",
    "\n",
    "#Set a random seed so that results are reproducible\n",
    "np.random.seed(24)\n",
    "\n",
    "\n",
    "# Create our 1D Gaussian using our mean and std from user with 1,000,000 datapoints\n",
    "gauss_data = np.random.normal(mean, std, size=1000000)\n",
    "print(\"Num of datapoints:\",len(gauss_data))\n",
    "print(\"Mean:\",gauss_data.mean() )\n",
    "print(\"Standard Deviation:\",gauss_data.std() )"
   ]
  },
  {
   "cell_type": "markdown",
   "metadata": {},
   "source": [
    "We use np.random.normal to create a normal distribution with the given mean and standard deviation."
   ]
  },
  {
   "cell_type": "markdown",
   "metadata": {},
   "source": [
    "* Build a dataset 𝒟 with 1,000 histogram bins \n"
   ]
  },
  {
   "cell_type": "code",
   "execution_count": 3,
   "metadata": {},
   "outputs": [
    {
     "data": {
      "image/png": "[encoded data removed]",
      "text/plain": [
       "<Figure size 432x288 with 1 Axes>"
      ]
     },
     "metadata": {
      "needs_background": "light"
     },
     "output_type": "display_data"
    }
   ],
   "source": [
    "import matplotlib.pyplot as plt\n",
    "\n",
    "# We get the values from our histogram plot so that we know the frequency of each bin\n",
    "# We set bins = 1000 because we only want 1000 samples from our dataset\n",
    "\n",
    "counts, bins, bars = plt.hist(gauss_data, density = True, bins= 1000)"
   ]
  },
  {
   "cell_type": "markdown",
   "metadata": {},
   "source": [
    "From the plot above, we see that the data is truly a normal distribution."
   ]
  },
  {
   "cell_type": "code",
   "execution_count": 4,
   "metadata": {},
   "outputs": [],
   "source": [
    "D_x = bins[:1000] #Values\n",
    "D_y = counts #Frequency"
   ]
  },
  {
   "cell_type": "code",
   "execution_count": 5,
   "metadata": {},
   "outputs": [
    {
     "data": {
      "text/plain": [
       "1000"
      ]
     },
     "execution_count": 5,
     "metadata": {},
     "output_type": "execute_result"
    }
   ],
   "source": [
    "len(D_x)"
   ]
  },
  {
   "cell_type": "code",
   "execution_count": 6,
   "metadata": {},
   "outputs": [
    {
     "data": {
      "text/plain": [
       "1000"
      ]
     },
     "execution_count": 6,
     "metadata": {},
     "output_type": "execute_result"
    }
   ],
   "source": [
    "len(D_y)"
   ]
  },
  {
   "cell_type": "markdown",
   "metadata": {},
   "source": [
    "* Split the dataset into train (90%) and test (10%): 𝒟={𝒟_𝑡𝑟𝑎𝑖𝑛,𝒟_𝑡𝑒𝑠𝑡 }. Make sure both train and test are IID.\n"
   ]
  },
  {
   "cell_type": "code",
   "execution_count": 7,
   "metadata": {},
   "outputs": [],
   "source": [
    "from sklearn.model_selection import train_test_split\n",
    "\n",
    "X_train, X_test, y_train, y_test = train_test_split(D_x, D_y, test_size=0.1, random_state = 12)\n"
   ]
  },
  {
   "cell_type": "markdown",
   "metadata": {},
   "source": [
    "Note that we only used the sklearn library to create our train/test split, since the instructions were to use pure Python and Numpy in implementing the neural network and backpropagation. "
   ]
  },
  {
   "cell_type": "markdown",
   "metadata": {},
   "source": [
    "We want to make sure that the test and train splits are IID, so we implement a KS test to check whether this holds true."
   ]
  },
  {
   "cell_type": "code",
   "execution_count": 8,
   "metadata": {},
   "outputs": [
    {
     "data": {
      "text/plain": [
       "KstestResult(statistic=0.06333333333333334, pvalue=0.8454854163038065)"
      ]
     },
     "execution_count": 8,
     "metadata": {},
     "output_type": "execute_result"
    }
   ],
   "source": [
    "from scipy.stats import ks_2samp\n",
    "\n",
    "ks_2samp(X_train, X_test)"
   ]
  },
  {
   "cell_type": "code",
   "execution_count": 9,
   "metadata": {},
   "outputs": [
    {
     "data": {
      "text/plain": [
       "KstestResult(statistic=0.07111111111111111, pvalue=0.7315282656781205)"
      ]
     },
     "execution_count": 9,
     "metadata": {},
     "output_type": "execute_result"
    }
   ],
   "source": [
    "ks_2samp(y_train, y_test)"
   ]
  },
  {
   "cell_type": "markdown",
   "metadata": {},
   "source": [
    "Since our p-values are high (> 0.05), it is probable that the D_test and D_train are IID"
   ]
  },
  {
   "cell_type": "markdown",
   "metadata": {},
   "source": [
    "* Using pure Python3 and Numpy, build a 3-layer neural networks: \n",
    "\n",
    "\n",
    "* Layers: {1−64−𝑅𝑒𝐿𝑈−64−𝑅𝑒𝐿𝑈−64−1−𝑠𝑖𝑔𝑚𝑜𝑖𝑑}  . Sigmoid is optional.\n",
    "\n",
    "\n",
    "* Initialize the weights using a Gaussian distribution with zero mean and std=0.01\n",
    "\n",
    "\n",
    "* Using pure Python3 and Numpy, implement the backpropagation discussed in this class. Learning rate=0.1. Batch size =1. Loss=MSE."
   ]
  },
  {
   "cell_type": "markdown",
   "metadata": {},
   "source": [
    "The first thing that we will do is to create our activation functions. These activation functions specifically, are the ReLU and the sigmoid functions. Activation functions add non-linearity to our neural networks, else they would just be cominbations of linear functions. Note that we also need to prepare their derivatives for implementation of the forward propagation and backpropagation."
   ]
  },
  {
   "cell_type": "markdown",
   "metadata": {},
   "source": [
    "![image info](https://www.researchgate.net/profile/Knut_Kvaal/publication/239269767/figure/fig2/AS:643520205430784@1530438581076/An-illustration-of-the-signal-processing-in-a-sigmoid-function.png)"
   ]
  },
  {
   "cell_type": "markdown",
   "metadata": {},
   "source": [
    "![image info](https://miro.medium.com/max/1000/1*3JUMOqugWKB2SDra6x6v0A.png)"
   ]
  },
  {
   "cell_type": "code",
   "execution_count": 10,
   "metadata": {},
   "outputs": [],
   "source": [
    "def sigmoid(Z):\n",
    "    return 1 / (1+ np.exp(-Z))\n",
    "\n",
    "def sigmoid_prime(dA, Z):\n",
    "    sig = sigmoid(Z)\n",
    "    return dA * sig * (1 - sig)\n",
    "\n",
    "def relu(Z):\n",
    "    return np.maximum(Z, 0)\n",
    "\n",
    "def relu_prime(dA, Z):\n",
    "    dZ = np.array(dA, copy = True)\n",
    "    dZ[Z <= 0] = 0;\n",
    "    return dZ;"
   ]
  },
  {
   "cell_type": "markdown",
   "metadata": {},
   "source": [
    "Next, we will implement our weight initialization. It is important to initalize our weights so that the outputs from our activation layers that we implemented above do not explode our vanish during the forward pass a deep neural network. If either occurs, then loss gradients will be to small or too large for the backpropagation. Thus, it will take longer to converge or perhaps never converge at all."
   ]
  },
  {
   "cell_type": "code",
   "execution_count": 11,
   "metadata": {},
   "outputs": [],
   "source": [
    "def init_layers(nn_architecture, seed = 24):\n",
    "    # We set our random seed for reproducibility\n",
    "    np.random.seed(seed)\n",
    "    \n",
    "    \n",
    "    number_of_layers = len(nn_architecture)\n",
    "    params_values = {}\n",
    "    \n",
    "    # iteration over network layers\n",
    "    for idx, layer in enumerate(nn_architecture):\n",
    "        layer_idx = idx + 1\n",
    "        \n",
    "        # extracting the number of units in layers\n",
    "        layer_input_size = layer[\"input_dim\"]\n",
    "        layer_output_size = layer[\"output_dim\"]\n",
    "        \n",
    "# Initialize the weights using a Gaussian distribution with zero mean and std=0.01\n",
    "        params_values['W' + str(layer_idx)] = np.random.normal(0, 0.01, size = (layer_output_size, layer_input_size) )\n",
    "        params_values['b' + str(layer_idx)] = np.zeros((layer_output_size, 1) ) \n",
    "        \n",
    "    return params_values\n"
   ]
  },
  {
   "cell_type": "markdown",
   "metadata": {},
   "source": [
    "Before we can implement our backpropagation, we need to first implement our forward pass. Our input data is fed forward through the network. Each hidden layer accepts this input data, processes it according to the activation function and passes it on to the next successive layer. "
   ]
  },
  {
   "cell_type": "markdown",
   "metadata": {},
   "source": [
    "![image info](https://miro.medium.com/max/596/1*tp73P0isrrfpj8RG-5aH6w.png)"
   ]
  },
  {
   "cell_type": "code",
   "execution_count": 12,
   "metadata": {},
   "outputs": [
    {
     "name": "stderr",
     "output_type": "stream",
     "text": [
      "<>:5: SyntaxWarning: \"is\" with a literal. Did you mean \"==\"?\n",
      "<>:7: SyntaxWarning: \"is\" with a literal. Did you mean \"==\"?\n",
      "<>:5: SyntaxWarning: \"is\" with a literal. Did you mean \"==\"?\n",
      "<>:7: SyntaxWarning: \"is\" with a literal. Did you mean \"==\"?\n",
      "<ipython-input-12-dda81e0202a9>:5: SyntaxWarning: \"is\" with a literal. Did you mean \"==\"?\n",
      "  if activation is \"relu\":\n",
      "<ipython-input-12-dda81e0202a9>:7: SyntaxWarning: \"is\" with a literal. Did you mean \"==\"?\n",
      "  elif activation is \"sigmoid\":\n"
     ]
    }
   ],
   "source": [
    "def single_layer_forward_propagation(A_prev, W_curr, b_curr, activation):\n",
    "    Z_curr = np.dot(W_curr, A_prev) + b_curr\n",
    "    \n",
    "    # Pick which implemented activation function to use\n",
    "    if activation is \"relu\":\n",
    "        activation_func = relu\n",
    "    elif activation is \"sigmoid\":\n",
    "        activation_func = sigmoid\n",
    "\n",
    "    return activation_func(Z_curr), Z_curr"
   ]
  },
  {
   "cell_type": "code",
   "execution_count": 13,
   "metadata": {},
   "outputs": [],
   "source": [
    "def full_forward_propagation(X, params_values, nn_architecture):\n",
    "    memory = {}\n",
    "    # Layer 0 \n",
    "    A_curr = X\n",
    "    \n",
    "    # iteration over network layers\n",
    "    for idx, layer in enumerate(nn_architecture):\n",
    "        layer_idx = idx + 1\n",
    "        # transfer the activation from the previous iteration\n",
    "        A_prev = A_curr\n",
    "        \n",
    "        activ_function_curr = layer[\"activation\"] #Activation function for current layer\n",
    "        \n",
    "        W_curr = params_values[\"W\" + str(layer_idx)] #Weights for current layer\n",
    "        b_curr = params_values[\"b\" + str(layer_idx)] #Biases for current layer\n",
    "        \n",
    "        #Application of function above given the current weights, biases, and activation function\n",
    "        A_curr, Z_curr = single_layer_forward_propagation(A_prev, W_curr, b_curr, activ_function_curr)\n",
    "        \n",
    "        \n",
    "        # saving calculated values in the memory\n",
    "        memory[\"A\" + str(idx)] = A_prev\n",
    "        memory[\"Z\" + str(layer_idx)] = Z_curr\n",
    "       \n",
    "    return A_curr, memory"
   ]
  },
  {
   "cell_type": "markdown",
   "metadata": {},
   "source": [
    "* Using pure Python3 and Numpy, implement the backpropagation discussed in this class. Learning rate=0.1. Batch size =1. Loss=MSE."
   ]
  },
  {
   "cell_type": "markdown",
   "metadata": {},
   "source": [
    "First let's create our loss function which should be MSE"
   ]
  },
  {
   "cell_type": "markdown",
   "metadata": {},
   "source": [
    "The loss function is what gives us a sense of how good our model is. It is used to evaluate our model's performance. MSE stands for Mean Squared Error, and it is calculated as the average of the squared differences between the predicted and actual values. Thus, its output is always a positive value."
   ]
  },
  {
   "cell_type": "markdown",
   "metadata": {},
   "source": [
    "![image info](https://i.imgur.com/vB3UAiH.jpeg)"
   ]
  },
  {
   "cell_type": "code",
   "execution_count": 14,
   "metadata": {},
   "outputs": [],
   "source": [
    "def loss(pred, actual):\n",
    "    \"\"\"MSE loss function\"\"\"\n",
    "    return np.mean((actual - pred)**2)"
   ]
  },
  {
   "cell_type": "markdown",
   "metadata": {},
   "source": [
    "Now, we implement our backpropagation. Backpropagation is a way of propagating the total loss back into the neural network to calculate how much of the loss each node is responsible for. This way, each node can update its weights in such a way to minimize the overall loss of the network. It does this by computing for the gradient of the loss function with respect to the weights of the network."
   ]
  },
  {
   "cell_type": "markdown",
   "metadata": {},
   "source": [
    "![image info](https://images.deepai.org/glossary-terms/73eec54be08746f6b546a874580b8673/backpropagation.png)"
   ]
  },
  {
   "cell_type": "code",
   "execution_count": 15,
   "metadata": {},
   "outputs": [
    {
     "name": "stderr",
     "output_type": "stream",
     "text": [
      "<>:5: SyntaxWarning: \"is\" with a literal. Did you mean \"==\"?\n",
      "<>:7: SyntaxWarning: \"is\" with a literal. Did you mean \"==\"?\n",
      "<>:5: SyntaxWarning: \"is\" with a literal. Did you mean \"==\"?\n",
      "<>:7: SyntaxWarning: \"is\" with a literal. Did you mean \"==\"?\n",
      "<ipython-input-15-3630d76793d4>:5: SyntaxWarning: \"is\" with a literal. Did you mean \"==\"?\n",
      "  if activation is \"relu\":\n",
      "<ipython-input-15-3630d76793d4>:7: SyntaxWarning: \"is\" with a literal. Did you mean \"==\"?\n",
      "  elif activation is \"sigmoid\":\n"
     ]
    }
   ],
   "source": [
    "def single_layer_backward_propagation(dA_curr, W_curr, b_curr, Z_curr, A_prev, activation):\n",
    "    m = A_prev.shape[1]\n",
    "    \n",
    "    # Picking activation function by using its derivative\n",
    "    if activation is \"relu\":\n",
    "        backward_activation_func = relu_prime\n",
    "    elif activation is \"sigmoid\":\n",
    "        backward_activation_func = sigmoid_prime\n",
    "\n",
    "    # calculation of the activation function derivative\n",
    "    dZ_curr = backward_activation_func(dA_curr, Z_curr)\n",
    "    \n",
    "    # derivative of the weights\n",
    "    dW_curr = np.dot(dZ_curr, A_prev.T) \n",
    "    # derivative of the bias\n",
    "    db_curr = np.sum(dZ_curr, axis=1, keepdims=True) \n",
    "    # derivative of the matrix A_prev\n",
    "    dA_prev = np.dot(W_curr.T, dZ_curr)\n",
    "\n",
    "    return dA_prev, dW_curr, db_curr"
   ]
  },
  {
   "cell_type": "code",
   "execution_count": 16,
   "metadata": {},
   "outputs": [],
   "source": [
    "def full_backward_propagation(Y_hat, Y, memory, params_values, nn_architecture):\n",
    "    grads_values = {}\n",
    "    \n",
    "    # number of examples\n",
    "    m = Y.shape[1]\n",
    "    # a hack ensuring the same shape of the prediction vector and labels vector\n",
    "    Y = Y.reshape(Y_hat.shape)\n",
    "    \n",
    "    # initiation of gradient descent algorithm\n",
    "    # since we're using MSE\n",
    "    dA_prev = (Y_hat - Y) * 2\n",
    "    \n",
    "    for layer_idx_prev, layer in reversed(list(enumerate(nn_architecture))):\n",
    "        layer_idx_curr = layer_idx_prev + 1\n",
    "        \n",
    "        activ_function_curr = layer[\"activation\"]\n",
    "        \n",
    "        dA_curr = dA_prev\n",
    "        \n",
    "        A_prev = memory[\"A\" + str(layer_idx_prev)]\n",
    "        Z_curr = memory[\"Z\" + str(layer_idx_curr)]\n",
    "        \n",
    "        W_curr = params_values[\"W\" + str(layer_idx_curr)]\n",
    "        b_curr = params_values[\"b\" + str(layer_idx_curr)]\n",
    "        \n",
    "        dA_prev, dW_curr, db_curr = single_layer_backward_propagation(\n",
    "            dA_curr, W_curr, b_curr, Z_curr, A_prev, activ_function_curr)\n",
    "        \n",
    "        grads_values[\"dW\" + str(layer_idx_curr)] = dW_curr\n",
    "        grads_values[\"db\" + str(layer_idx_curr)] = db_curr\n",
    "    \n",
    "    return grads_values"
   ]
  },
  {
   "cell_type": "markdown",
   "metadata": {},
   "source": [
    "The next part is simply updating our weights and biases"
   ]
  },
  {
   "cell_type": "code",
   "execution_count": 17,
   "metadata": {},
   "outputs": [],
   "source": [
    "def update(params_values, grads_values, nn_architecture, learning_rate):\n",
    "\n",
    "    # iteration over network layers\n",
    "    for layer_idx, layer in enumerate(nn_architecture, 1):\n",
    "        params_values[\"W\" + str(layer_idx)] -= learning_rate * grads_values[\"dW\" + str(layer_idx)]        \n",
    "        params_values[\"b\" + str(layer_idx)] -= learning_rate * grads_values[\"db\" + str(layer_idx)]\n",
    "\n",
    "    return params_values"
   ]
  },
  {
   "cell_type": "markdown",
   "metadata": {},
   "source": [
    "Lastly, we create our training function to apply all of the functions we've implemented so far. The training process will look similar to the picture below."
   ]
  },
  {
   "cell_type": "markdown",
   "metadata": {},
   "source": [
    "\n",
    "![image info](https://www.researchgate.net/publication/327870314/figure/fig1/AS:674797562363914@1537895684936/Flow-chart-of-the-neural-network-training-process.png)"
   ]
  },
  {
   "cell_type": "code",
   "execution_count": 18,
   "metadata": {},
   "outputs": [],
   "source": [
    "def train(X, Y, nn_architecture, epochs, learning_rate, verbose=False, callback=None):\n",
    "    # initiation of neural net parameters\n",
    "    params_values = init_layers(nn_architecture)\n",
    "    # initiation of lists storing the history \n",
    "    # of metrics calculated during the learning process \n",
    "    cost_history = []\n",
    "    \n",
    "    # performing calculations for subsequent iterations\n",
    "    for num in range(epochs):\n",
    "        # step forward\n",
    "        for i in range(len(X)): #So that batch size = 1\n",
    "            Y_hat, cashe = full_forward_propagation(X[:, i:i+1], params_values, nn_architecture)\n",
    "\n",
    "            # calculating metrics and saving them in history\n",
    "            cost = loss(Y_hat, Y[:,i:i+1])\n",
    "            cost_history.append(cost)\n",
    "\n",
    "\n",
    "            # step backward - calculating gradient\n",
    "            grads_values = full_backward_propagation(Y_hat, Y[:,i:i+1], cashe, params_values, nn_architecture)\n",
    "            # updating model state\n",
    "            params_values = update(params_values, grads_values, nn_architecture, learning_rate)\n",
    "        if(num % 1 == 0):\n",
    "            print(\"Iteration: {:05} - cost: {:.8f}\".format(num, cost))\n",
    "            if(callback is not None):\n",
    "                callback(i, params_values)\n",
    "            \n",
    "    return params_values"
   ]
  },
  {
   "cell_type": "code",
   "execution_count": 19,
   "metadata": {},
   "outputs": [],
   "source": [
    "# Based on instructions\n",
    "nn_archi = [\n",
    "    {\"input_dim\": 1, \"output_dim\": 64, \"activation\": \"relu\"},\n",
    "    {\"input_dim\": 64, \"output_dim\": 64, \"activation\": \"relu\"},\n",
    "    {\"input_dim\": 64, \"output_dim\": 1, \"activation\": \"sigmoid\"}\n",
    "]"
   ]
  },
  {
   "cell_type": "code",
   "execution_count": 20,
   "metadata": {},
   "outputs": [],
   "source": [
    "# Just to fix the dimensions\n",
    "\n",
    "X_train = X_train.reshape((1, 900))\n",
    "y_train = y_train.reshape((1, 900))\n",
    "\n",
    "X_test = X_test.reshape((1, 100))\n",
    "y_test = y_test.reshape((1, 100))"
   ]
  },
  {
   "cell_type": "code",
   "execution_count": 21,
   "metadata": {},
   "outputs": [
    {
     "name": "stdout",
     "output_type": "stream",
     "text": [
      "Iteration: 00000 - cost: 0.24968170\n",
      "Iteration: 00001 - cost: 0.24346060\n",
      "Iteration: 00002 - cost: 0.23739881\n",
      "Iteration: 00003 - cost: 0.23149434\n",
      "Iteration: 00004 - cost: 0.22574877\n",
      "Iteration: 00005 - cost: 0.22015880\n",
      "Iteration: 00006 - cost: 0.21472249\n",
      "Iteration: 00007 - cost: 0.20943770\n",
      "Iteration: 00008 - cost: 0.20430325\n",
      "Iteration: 00009 - cost: 0.19931599\n",
      "Iteration: 00010 - cost: 0.19447282\n",
      "Iteration: 00011 - cost: 0.18977073\n",
      "Iteration: 00012 - cost: 0.18520682\n",
      "Iteration: 00013 - cost: 0.18077816\n",
      "Iteration: 00014 - cost: 0.17648166\n",
      "Iteration: 00015 - cost: 0.17231399\n",
      "Iteration: 00016 - cost: 0.16827193\n",
      "Iteration: 00017 - cost: 0.16435216\n",
      "Iteration: 00018 - cost: 0.16055140\n",
      "Iteration: 00019 - cost: 0.15686632\n"
     ]
    }
   ],
   "source": [
    "# Based on given specs\n",
    "weights = train(X_train, y_train, nn_archi, epochs=20, learning_rate=0.1)\n"
   ]
  },
  {
   "cell_type": "markdown",
   "metadata": {},
   "source": [
    "Now let's try to evaluate how our model would perform on its unseen data, which is our Test data split"
   ]
  },
  {
   "cell_type": "code",
   "execution_count": 22,
   "metadata": {},
   "outputs": [],
   "source": [
    "# We do this by running our full forward propagation on our test dataset and storing its predictions\n",
    "test_pred, mem = full_forward_propagation(X_test, weights, nn_archi)\n"
   ]
  },
  {
   "cell_type": "code",
   "execution_count": 23,
   "metadata": {},
   "outputs": [
    {
     "data": {
      "text/plain": [
       "(1, 100)"
      ]
     },
     "execution_count": 23,
     "metadata": {},
     "output_type": "execute_result"
    }
   ],
   "source": [
    "test_pred.shape"
   ]
  },
  {
   "cell_type": "code",
   "execution_count": 24,
   "metadata": {},
   "outputs": [],
   "source": [
    "# We reshape for plotting purposes\n",
    "X_test = X_test.reshape((100, 1))\n",
    "y_test = y_test.reshape((100, 1))\n",
    "\n",
    "test_pred = test_pred.reshape((100, 1))"
   ]
  },
  {
   "cell_type": "code",
   "execution_count": 25,
   "metadata": {},
   "outputs": [
    {
     "data": {
      "text/plain": [
       "(100, 1)"
      ]
     },
     "execution_count": 25,
     "metadata": {},
     "output_type": "execute_result"
    }
   ],
   "source": [
    "test_pred.shape"
   ]
  },
  {
   "cell_type": "code",
   "execution_count": 26,
   "metadata": {},
   "outputs": [
    {
     "data": {
      "image/png": "[encoded data removed]",
      "text/plain": [
       "<Figure size 432x288 with 1 Axes>"
      ]
     },
     "metadata": {
      "needs_background": "light"
     },
     "output_type": "display_data"
    }
   ],
   "source": [
    "plt.scatter(X_test, y_test, color = 'blue', label = 'Actual')\n",
    "plt.scatter(X_test, test_pred, color = 'red', label = 'Predictions')\n",
    "plt.legend()\n",
    "plt.show()"
   ]
  },
  {
   "cell_type": "markdown",
   "metadata": {},
   "source": [
    "The plot above shows how our model runs on the test data. As you can see it doesn't perform very well yet. However, tweaking our model can result in massive boosts to its performance. For example, changing the std at initialization from 0.01 to 0.3 results in a much better model. We can also try testing out different learning rates to get better results. Another thing we can do is to run more epochs. Since we're only running 20 epochs, the model actually trains very quickly so it might be a good idea to have a trade-off of more time spent training, for a better performing model."
   ]
  },
  {
   "cell_type": "markdown",
   "metadata": {},
   "source": [
    "Next cell is just to test out changing our initialization"
   ]
  },
  {
   "cell_type": "code",
   "execution_count": 30,
   "metadata": {},
   "outputs": [],
   "source": [
    "def init_layers(nn_architecture, seed = 24):\n",
    "    # We set our random seed for reproducibility\n",
    "    np.random.seed(seed)\n",
    "    \n",
    "    \n",
    "    number_of_layers = len(nn_architecture)\n",
    "    params_values = {}\n",
    "    \n",
    "    # iteration over network layers\n",
    "    for idx, layer in enumerate(nn_architecture):\n",
    "        layer_idx = idx + 1\n",
    "        \n",
    "        # extracting the number of units in layers\n",
    "        layer_input_size = layer[\"input_dim\"]\n",
    "        layer_output_size = layer[\"output_dim\"]\n",
    "        \n",
    "# Initialize the weights using a Gaussian distribution with zero mean and std=0.01\n",
    "        params_values['W' + str(layer_idx)] = np.random.normal(0, 0.3, size = (layer_output_size, layer_input_size) )\n",
    "        params_values['b' + str(layer_idx)] = np.zeros((layer_output_size, 1) ) \n",
    "        \n",
    "    return params_values\n"
   ]
  },
  {
   "cell_type": "code",
   "execution_count": 31,
   "metadata": {},
   "outputs": [
    {
     "name": "stdout",
     "output_type": "stream",
     "text": [
      "Iteration: 00000 - cost: 0.04829806\n",
      "Iteration: 00001 - cost: 0.00029748\n",
      "Iteration: 00002 - cost: 0.00028494\n",
      "Iteration: 00003 - cost: 0.00027341\n",
      "Iteration: 00004 - cost: 0.00026276\n",
      "Iteration: 00005 - cost: 0.00025290\n",
      "Iteration: 00006 - cost: 0.00024375\n",
      "Iteration: 00007 - cost: 0.00023522\n",
      "Iteration: 00008 - cost: 0.00022726\n",
      "Iteration: 00009 - cost: 0.00021982\n",
      "Iteration: 00010 - cost: 0.00021283\n",
      "Iteration: 00011 - cost: 0.00020628\n",
      "Iteration: 00012 - cost: 0.00020011\n",
      "Iteration: 00013 - cost: 0.00019429\n",
      "Iteration: 00014 - cost: 0.00018879\n",
      "Iteration: 00015 - cost: 0.00018359\n",
      "Iteration: 00016 - cost: 0.00017867\n",
      "Iteration: 00017 - cost: 0.00017400\n",
      "Iteration: 00018 - cost: 0.00016956\n",
      "Iteration: 00019 - cost: 0.00016534\n"
     ]
    }
   ],
   "source": [
    "# Just to fix the dimensions\n",
    "\n",
    "X_train = X_train.reshape((1, 900))\n",
    "y_train = y_train.reshape((1, 900))\n",
    "\n",
    "X_test = X_test.reshape((1, 100))\n",
    "y_test = y_test.reshape((1, 100))\n",
    "\n",
    "# Based on given specs\n",
    "weights = train(X_train, y_train, nn_archi, epochs=20, learning_rate=0.1)\n",
    "\n",
    "# We do this by running our full forward propagation on our test dataset and storing its predictions\n",
    "test_pred, mem = full_forward_propagation(X_test, weights, nn_archi)\n",
    "\n",
    "# We reshape for plotting purposes\n",
    "X_test = X_test.reshape((100, 1))\n",
    "y_test = y_test.reshape((100, 1))\n",
    "\n",
    "test_pred = test_pred.reshape((100, 1))"
   ]
  },
  {
   "cell_type": "code",
   "execution_count": 32,
   "metadata": {},
   "outputs": [
    {
     "data": {
      "image/png": "[encoded data removed]",
      "text/plain": [
       "<Figure size 432x288 with 1 Axes>"
      ]
     },
     "metadata": {
      "needs_background": "light"
     },
     "output_type": "display_data"
    }
   ],
   "source": [
    "plt.scatter(X_test, y_test, color = 'blue', label = 'Actual')\n",
    "plt.scatter(X_test, test_pred, color = 'red', label = 'Predictions')\n",
    "plt.legend()\n",
    "plt.show()"
   ]
  },
  {
   "cell_type": "markdown",
   "metadata": {},
   "source": [
    "As shown by the plot above, initialization is very crucial to how the model will perform. Even though we used the same number of epochs, the performance was much better."
   ]
  },
  {
   "cell_type": "markdown",
   "metadata": {},
   "source": [
    "## References:\n",
    "- https://github.com/SkalskiP/ILearnDeepLearning.py/blob/master/01_mysteries_of_neural_networks/03_numpy_neural_net/Numpy%20deep%20neural%20network.ipynb (Main Source of code)\n",
    "- https://www.freecodecamp.org/news/building-a-3-layer-neural-network-from-scratch-99239c4af5d3/\n",
    "- https://towardsdatascience.com/weight-initialization-in-neural-networks-a-journey-from-the-basics-to-kaiming-954fb9b47c79\n",
    "- https://towardsdatascience.com/forward-propagation-in-neural-networks-simplified-math-and-code-version-bbcfef6f9250\n",
    "- https://machinelearningmastery.com/loss-and-loss-functions-for-training-deep-learning-neural-networks/"
   ]
  }
 ],
 "metadata": {
  "kernelspec": {
   "display_name": "Python 3",
   "language": "python",
   "name": "python3"
  },
  "language_info": {
   "codemirror_mode": {
    "name": "ipython",
    "version": 3
   },
   "file_extension": ".py",
   "mimetype": "text/x-python",
   "name": "python",
   "nbconvert_exporter": "python",
   "pygments_lexer": "ipython3",
   "version": "3.8.3"
  }
 },
 "nbformat": 4,
 "nbformat_minor": 4
}
